{
 "cells": [
  {
   "cell_type": "markdown",
   "metadata": {},
   "source": [
    "# Capstone Project - The Battle of Neighborhoods (Week 1)"
   ]
  },
  {
   "cell_type": "markdown",
   "metadata": {},
   "source": [
    "## Table of contents\n",
    "* [Introduction: Business Problem](#introduction)\n",
    "* [Data](#data)\n",
    "* [Methodology](#methodology)\n",
    "* [Analysis](#analysis)\n",
    "* [Results and Discussion](#results)\n",
    "* [Conclusion](#conclusion)"
   ]
  },
  {
   "cell_type": "markdown",
   "metadata": {},
   "source": [
    "## 1. Introduction: Business Problem <a name=\"introduction\"></a>"
   ]
  },
  {
   "cell_type": "markdown",
   "metadata": {},
   "source": [
    "### 1.1 Background"
   ]
  },
  {
   "cell_type": "markdown",
   "metadata": {},
   "source": [
    "**Vancouver** is the 8th largest city in **Canada**, which is also called a \"city of neighborhoods\" because of its ethnic diversity. Also, Vancouver now has one of the highest concentrations of ethnic Chinese people in North America. Other major Asian groups in Vancouver includes South Asian (primarily Punjabi), Indo-Canadian (5.7%), Filipino (5.0%), Japanese (1.7%), Korean (1.5%), Vietnamese, Indonesian, and Cambodian. \n",
    "\n",
    "To open up an Asian restuarant is always a popular choice for the first generation Asian immigrants to make a living in a new country. Therefore, finding a right location is crucial to start their business."
   ]
  },
  {
   "cell_type": "markdown",
   "metadata": {},
   "source": [
    "### 1.2 Business Problem"
   ]
  },
  {
   "cell_type": "markdown",
   "metadata": {},
   "source": [
    "This report would be focused on finding a proper location for Asian immigrants to open up a new restuarant in Vancouver, considering the following factors:\n",
    "* Safety issue: low crime rate\n",
    "* Close to city center\n",
    "* Not already crowded with restaurants, especially Asian restuarants"
   ]
  },
  {
   "cell_type": "markdown",
   "metadata": {},
   "source": [
    "### 1.3 Target Audience"
   ]
  },
  {
   "cell_type": "markdown",
   "metadata": {},
   "source": [
    "The target audience of this research is the Asian immigrants group who are trying to find a great location to open an Asian restuarant."
   ]
  },
  {
   "cell_type": "markdown",
   "metadata": {},
   "source": [
    "## Data <a name=\"data\"></a>"
   ]
  },
  {
   "cell_type": "markdown",
   "metadata": {},
   "source": [
    "Based on the two fators we considered, we would need the detailed information about:\n",
    "* Crime rate of all the neighborhood in Vancouver, Canada\n",
    "* Distance of neighborhood from city center\n",
    "* Number of existing restaurants in the neighborhood (any type of restaurant)\n",
    "* Number of and distance to Asian restuarants in the neighborhood\n",
    "\n",
    "To grab all these information and solve the problem, we need to extract what we need from the following resources:\n",
    "* Crime rate statistics would be obtained from a dataset from Kaggle containing the Vancouver Police Department's crime records from 2013 to 2019, which consists each Neighbourhood in Vancouver along with type of crime, recorded year, month, day, hour and minute, recorded block, GPS. **Dataset URL:** https://www.kaggle.com/agilesifaka/vancouver-crime-report/version/2\n",
    "* Distance of neighborhood from city center would be accessed through geopy.geocoders \n",
    "* Number of restaurants and their type and location in every neighborhood will be obtained using **Foursquare API**\n",
    "* Number of and distance to Asian restaurants in every neighborhood will be obtained using **Foursquare API**"
   ]
  },
  {
   "cell_type": "code",
   "execution_count": null,
   "metadata": {},
   "outputs": [],
   "source": []
  }
 ],
 "metadata": {
  "kernelspec": {
   "display_name": "Python 2",
   "language": "python",
   "name": "python2"
  },
  "language_info": {
   "codemirror_mode": {
    "name": "ipython",
    "version": 2
   },
   "file_extension": ".py",
   "mimetype": "text/x-python",
   "name": "python",
   "nbconvert_exporter": "python",
   "pygments_lexer": "ipython2",
   "version": "2.7.16"
  }
 },
 "nbformat": 4,
 "nbformat_minor": 2
}
